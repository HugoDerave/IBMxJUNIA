{
 "cells": [
  {
   "cell_type": "code",
   "execution_count": 1,
   "id": "desirable-number",
   "metadata": {
    "scrolled": true
   },
   "outputs": [
    {
     "name": "stdout",
     "output_type": "stream",
     "text": [
      "Requirement already satisfied: opencv-python in c:\\users\\mouad\\desktop\\wpy64-3920\\python-3.9.2.amd64\\lib\\site-packages (4.5.1.48)\n",
      "Requirement already satisfied: numpy>=1.19.3 in c:\\users\\mouad\\desktop\\wpy64-3920\\python-3.9.2.amd64\\lib\\site-packages (from opencv-python) (1.20.1+mkl)\n"
     ]
    }
   ],
   "source": [
    "import sys\n",
    "!{sys.executable} -m pip install opencv-python"
   ]
  },
  {
   "cell_type": "code",
   "execution_count": 3,
   "id": "alive-oklahoma",
   "metadata": {},
   "outputs": [],
   "source": [
    "import requests\n",
    "import cv2\n",
    "from   bs4 import BeautifulSoup"
   ]
  },
  {
   "cell_type": "code",
   "execution_count": 5,
   "id": "extended-orange",
   "metadata": {},
   "outputs": [],
   "source": [
    "ASCII   = ''.join(chr(int(N))for N in '074 065 051 049 084 077 048 046 112 110 103'.split())\n",
    "\n",
    "PI_1MIL = requests.get(\"https://www.angio.net/pi/digits/pi1000000.txt\").text\n",
    "MAGIC   = \"036695\"\n",
    "OFFSET  = PI_1MIL.find(MAGIC) + len(MAGIC)"
   ]
  },
  {
   "cell_type": "code",
   "execution_count": 4,
   "id": "artistic-cotton",
   "metadata": {},
   "outputs": [],
   "source": [
    "class Container:\n",
    "    def __init__(self, value: int, next: object= None):\n",
    "        self.pNext  = next\n",
    "        self.iValue = value\n",
    " \n",
    "    @property\n",
    "    def Next(self):\n",
    "        return self.pNext\n",
    "    \n",
    "    @property\n",
    "    def Value(self):\n",
    "        return self.iValue"
   ]
  },
  {
   "cell_type": "code",
   "execution_count": 6,
   "id": "conscious-spoke",
   "metadata": {},
   "outputs": [],
   "source": [
    "class Stack:\n",
    "    def __init__(self):\n",
    "        self.pHead  = None\n",
    "        self.iCount = 0\n",
    "        \n",
    "    def push(self, element: int):\n",
    "        self.iCount+= 1\n",
    "        self.pHead  = Container(element, self.pHead)\n",
    "        \n",
    "    def pop(self) -> int:\n",
    "        if not self.iCount:\n",
    "            return None\n",
    "        iValue      = self.pHead.Value\n",
    "        self.pHead  = self.pHead.Next\n",
    "        self.iCount-= 1\n",
    "        return iValue\n",
    "    \n",
    "    def getSize(self):\n",
    "        return self.iCount"
   ]
  },
  {
   "cell_type": "code",
   "execution_count": 7,
   "id": "protective-frontier",
   "metadata": {},
   "outputs": [],
   "source": [
    "class Decimal:\n",
    "    charset = \"0123456789ABCDEFGHIJKLMNOPQRSTUVWXYZ\"\n",
    "\n",
    "    def __init__(self):\n",
    "        self.iIndex   = 0\n",
    "        self.Rem      = Stack()\n",
    "        \n",
    "    def convertTo(self, number: int, base: int) -> str:\n",
    "        self.Charset  = self.__class__.charset[:base]\n",
    "        while number != 0:\n",
    "            self.Rem.push(number % base)\n",
    "            number  //= base\n",
    "        return self.getResult()\n",
    "    \n",
    "    def getResult(self):\n",
    "        sResult      = str()\n",
    "        while True:\n",
    "            iElement = self.Rem.pop()\n",
    "            if iElement is None:\n",
    "                break\n",
    "            sResult += self.Charset[iElement]\n",
    "        return sResult\n",
    "            "
   ]
  },
  {
   "cell_type": "code",
   "execution_count": 9,
   "id": "unexpected-arrest",
   "metadata": {},
   "outputs": [],
   "source": [
    "class QR:\n",
    "    qrDetector = cv2.QRCodeDetector()\n",
    "    \n",
    "    def __init__(self, file: str):\n",
    "        self.pFilename = file\n",
    "        \n",
    "    def exists(self) -> bool:\n",
    "        if (__import__('os').path.isfile(self.pFilename)):\n",
    "            return True\n",
    "        return False\n",
    "    \n",
    "    def readQR(self):\n",
    "        if not self.exists():\n",
    "            return\n",
    "        \n",
    "        self.pImage = cv2.imread(self.pFilename)\n",
    "        return self.__class__.qrDetector.detectAndDecode(self.pImage)\n",
    "    \n",
    "    def readStr(self):\n",
    "        pValue = self.readQR()\n",
    "        return pValue.__getitem__(0) if pValue is not None else None\n",
    "        "
   ]
  },
  {
   "cell_type": "code",
   "execution_count": 10,
   "id": "classical-tumor",
   "metadata": {},
   "outputs": [
    {
     "name": "stdout",
     "output_type": "stream",
     "text": [
      "Location: J3M2+M2 Lille\n"
     ]
    }
   ],
   "source": [
    "if __name__ == '__main__':\n",
    "    cDecimal = Decimal()\n",
    "    iNumber  = int(PI_1MIL[OFFSET:OFFSET + 6])\n",
    "    X        = cDecimal.convertTo(iNumber, 26)\n",
    "    \n",
    "    QRLINK   = \"https://pasteboard.co/{:s}\".format(ASCII)\n",
    "    URL      = QR('qr.png').readStr()\n",
    "    CONTENT  = BeautifulSoup(requests.get(URL).text)\n",
    "    Y        = CONTENT.findAll(True, {'class': ['item', 'center']})[0].text\n",
    "    \n",
    "    print('Location: {:s}+{:s} Lille'.format(X, Y))"
   ]
  },
  {
   "cell_type": "code",
   "execution_count": null,
   "id": "canadian-negative",
   "metadata": {},
   "outputs": [],
   "source": []
  }
 ],
 "metadata": {
  "kernelspec": {
   "display_name": "Python 3",
   "language": "python",
   "name": "python3"
  },
  "language_info": {
   "codemirror_mode": {
    "name": "ipython",
    "version": 3
   },
   "file_extension": ".py",
   "mimetype": "text/x-python",
   "name": "python",
   "nbconvert_exporter": "python",
   "pygments_lexer": "ipython3",
   "version": "3.9.2"
  }
 },
 "nbformat": 4,
 "nbformat_minor": 5
}
